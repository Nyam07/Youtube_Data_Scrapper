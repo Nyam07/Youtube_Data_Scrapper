{
 "cells": [
  {
   "cell_type": "markdown",
   "id": "6a826181",
   "metadata": {},
   "source": [
    "### Project to scrape details of all youtube videos from a specific youtuber and place it in a csv file"
   ]
  },
  {
   "cell_type": "markdown",
   "id": "d87c66e2",
   "metadata": {},
   "source": [
    "### Imports"
   ]
  },
  {
   "cell_type": "code",
   "execution_count": 1,
   "id": "0f3a6a6f",
   "metadata": {},
   "outputs": [],
   "source": [
    "from selenium import webdriver\n",
    "from selenium.webdriver.common.keys import Keys\n",
    "\n",
    "from webdriver_manager.chrome import ChromeDriverManager\n",
    "import time\n",
    "from bs4 import BeautifulSoup\n",
    "from selenium.webdriver.common.by import By\n",
    "import datetime\n"
   ]
  },
  {
   "cell_type": "code",
   "execution_count": 2,
   "id": "a19733d8",
   "metadata": {},
   "outputs": [
    {
     "name": "stderr",
     "output_type": "stream",
     "text": [
      "\n",
      "\n",
      "====== WebDriver manager ======\n",
      "Current google-chrome version is 98.0.4758\n",
      "Get LATEST chromedriver version for 98.0.4758 google-chrome\n",
      "There is no [win32] chromedriver for browser  in cache\n",
      "Trying to download new driver from https://chromedriver.storage.googleapis.com/98.0.4758.80/chromedriver_win32.zip\n",
      "Driver has been saved in cache [C:\\Users\\NYAM\\.wdm\\drivers\\chromedriver\\win32\\98.0.4758.80]\n",
      "C:\\Users\\NYAM\\AppData\\Local\\Temp/ipykernel_8076/1503906442.py:1: DeprecationWarning: executable_path has been deprecated, please pass in a Service object\n",
      "  driver = webdriver.Chrome(ChromeDriverManager().install())\n"
     ]
    }
   ],
   "source": [
    "driver = webdriver.Chrome(ChromeDriverManager().install())"
   ]
  },
  {
   "cell_type": "code",
   "execution_count": 3,
   "id": "08e1258b",
   "metadata": {},
   "outputs": [],
   "source": [
    "# url of the videos you want to collect data on\n",
    "url = \"https://www.youtube.com/c/TalesofthecrazyKennar/videos\"\n",
    "driver.get(url)\n"
   ]
  },
  {
   "cell_type": "code",
   "execution_count": 4,
   "id": "ce98fdde",
   "metadata": {},
   "outputs": [
    {
     "data": {
      "text/plain": [
       "32.916666666666664"
      ]
     },
     "execution_count": 4,
     "metadata": {},
     "output_type": "execute_result"
    }
   ],
   "source": [
    "# DETERMINE THE NUMBER OF TIMES TO SCROLL\n",
    "# check the total videos\n",
    "# check the number of videos in a single page on your browser ie 4 vertical, 3 horizontal = 12\n",
    "# divide the two and get the number of scrolls\n",
    "395 / 12"
   ]
  },
  {
   "cell_type": "code",
   "execution_count": 5,
   "id": "f15629f8",
   "metadata": {},
   "outputs": [],
   "source": [
    "# scroll down the page and collect all the html data\n",
    "for _ in range(33):\n",
    "    driver.find_element(By.TAG_NAME, 'body').send_keys(Keys.END)\n",
    "    time.sleep(3)"
   ]
  },
  {
   "cell_type": "code",
   "execution_count": 6,
   "id": "584a2914",
   "metadata": {},
   "outputs": [],
   "source": [
    "# get the html code from scrolling the website\n",
    "html = driver.page_source"
   ]
  },
  {
   "cell_type": "code",
   "execution_count": 7,
   "id": "cd2404a6",
   "metadata": {},
   "outputs": [
    {
     "data": {
      "text/plain": [
       "'Tales of the crazy Kennar - YouTube'"
      ]
     },
     "execution_count": 7,
     "metadata": {},
     "output_type": "execute_result"
    }
   ],
   "source": [
    "# beautiful soup variable to hold the html code\n",
    "soup = BeautifulSoup(html, 'html.parser')\n",
    "soup.title.text"
   ]
  },
  {
   "cell_type": "code",
   "execution_count": 8,
   "id": "6b9b25d4",
   "metadata": {},
   "outputs": [
    {
     "data": {
      "text/plain": [
       "420"
      ]
     },
     "execution_count": 8,
     "metadata": {},
     "output_type": "execute_result"
    }
   ],
   "source": [
    "# get all the videos from the page\n",
    "videos = soup.find_all(\"div\", {\"id\": \"dismissible\"})\n",
    "len(videos)"
   ]
  },
  {
   "cell_type": "code",
   "execution_count": 9,
   "id": "1c473c20",
   "metadata": {},
   "outputs": [],
   "source": [
    "master_list = []\n",
    "for video in videos:\n",
    "    data_dict = {}\n",
    "    data_dict[\"Title\"] = video.find(\"a\", {\"id\": \"video-title\"}).text\n",
    "    \n",
    "    meta = video.find(\"div\", {\"id\": \"metadata-line\"}).find_all(\"span\")\n",
    "    data_dict[\"views\"] = meta[0].text\n",
    "    data_dict[\"age\"] = meta[1].text\n",
    "    \n",
    "    url =video_title = video.find(\"a\", {\"id\": \"video-title\"})['href']\n",
    "    data_dict[\"url\"] = \"https://www.youtube.com/\" + url\n",
    "    \n",
    "    master_list.append(data_dict)"
   ]
  },
  {
   "cell_type": "markdown",
   "id": "920d494d",
   "metadata": {},
   "source": [
    "### Place results in pandas data frame"
   ]
  },
  {
   "cell_type": "code",
   "execution_count": 10,
   "id": "25b5bb1d",
   "metadata": {},
   "outputs": [],
   "source": [
    "import pandas as pd"
   ]
  },
  {
   "cell_type": "code",
   "execution_count": 11,
   "id": "3bb431a2",
   "metadata": {},
   "outputs": [],
   "source": [
    "df = pd.DataFrame(master_list)"
   ]
  },
  {
   "cell_type": "code",
   "execution_count": 12,
   "id": "d147a896",
   "metadata": {},
   "outputs": [],
   "source": [
    "# clean the views to numbers that can be used for analysis\n",
    "def convert_views(df):\n",
    "    # views with 1000 + have K while views with a million have M\n",
    "    if 'K' in df['views']:\n",
    "        views = float(df['views'].split(\"K\")[0]) * 1000\n",
    "        return views\n",
    "    elif \"M\" in df['views']:\n",
    "        views = float(df['views'].split(\"M\")[0]) * 1000000\n",
    "        return views"
   ]
  },
  {
   "cell_type": "code",
   "execution_count": 13,
   "id": "18c17da4",
   "metadata": {},
   "outputs": [
    {
     "data": {
      "text/html": [
       "<div>\n",
       "<style scoped>\n",
       "    .dataframe tbody tr th:only-of-type {\n",
       "        vertical-align: middle;\n",
       "    }\n",
       "\n",
       "    .dataframe tbody tr th {\n",
       "        vertical-align: top;\n",
       "    }\n",
       "\n",
       "    .dataframe thead th {\n",
       "        text-align: right;\n",
       "    }\n",
       "</style>\n",
       "<table border=\"1\" class=\"dataframe\">\n",
       "  <thead>\n",
       "    <tr style=\"text-align: right;\">\n",
       "      <th></th>\n",
       "      <th>Title</th>\n",
       "      <th>views</th>\n",
       "      <th>age</th>\n",
       "      <th>url</th>\n",
       "      <th>Clean_views</th>\n",
       "    </tr>\n",
       "  </thead>\n",
       "  <tbody>\n",
       "    <tr>\n",
       "      <th>0</th>\n",
       "      <td>kazi iko KAZI</td>\n",
       "      <td>10K views</td>\n",
       "      <td>8 hours ago</td>\n",
       "      <td>https://www.youtube.com//watch?v=y12bBz9WVo0</td>\n",
       "      <td>10000</td>\n",
       "    </tr>\n",
       "    <tr>\n",
       "      <th>1</th>\n",
       "      <td>ROOMMATES EPISODE 11 (season finale)</td>\n",
       "      <td>75K views</td>\n",
       "      <td>2 days ago</td>\n",
       "      <td>https://www.youtube.com//watch?v=rSn7Vp4wLik</td>\n",
       "      <td>75000</td>\n",
       "    </tr>\n",
       "    <tr>\n",
       "      <th>2</th>\n",
       "      <td>\"INDEPENDENT LADIES ON\" VALENTINES DAY</td>\n",
       "      <td>45K views</td>\n",
       "      <td>4 days ago</td>\n",
       "      <td>https://www.youtube.com//watch?v=ZBAIMYJJCcc</td>\n",
       "      <td>45000</td>\n",
       "    </tr>\n",
       "    <tr>\n",
       "      <th>3</th>\n",
       "      <td>MAJI MAJI PART 9 (FINAL PART)</td>\n",
       "      <td>48K views</td>\n",
       "      <td>5 days ago</td>\n",
       "      <td>https://www.youtube.com//watch?v=ysLlIiDAU8Y</td>\n",
       "      <td>48000</td>\n",
       "    </tr>\n",
       "    <tr>\n",
       "      <th>4</th>\n",
       "      <td>MAJI MAJI PART 8</td>\n",
       "      <td>22K views</td>\n",
       "      <td>5 days ago</td>\n",
       "      <td>https://www.youtube.com//watch?v=fsmVQVtHHd8</td>\n",
       "      <td>22000</td>\n",
       "    </tr>\n",
       "    <tr>\n",
       "      <th>...</th>\n",
       "      <td>...</td>\n",
       "      <td>...</td>\n",
       "      <td>...</td>\n",
       "      <td>...</td>\n",
       "      <td>...</td>\n",
       "    </tr>\n",
       "    <tr>\n",
       "      <th>415</th>\n",
       "      <td>MIGUNA MIGUNA and PLO talk about Canaan</td>\n",
       "      <td>12K views</td>\n",
       "      <td>4 years ago</td>\n",
       "      <td>https://www.youtube.com//watch?v=ThlAqoKcr40</td>\n",
       "      <td>12000</td>\n",
       "    </tr>\n",
       "    <tr>\n",
       "      <th>416</th>\n",
       "      <td>SALMAN KEN</td>\n",
       "      <td>15K views</td>\n",
       "      <td>4 years ago</td>\n",
       "      <td>https://www.youtube.com//watch?v=iQ42-7p75Ws</td>\n",
       "      <td>15000</td>\n",
       "    </tr>\n",
       "    <tr>\n",
       "      <th>417</th>\n",
       "      <td>Kenyan Fast and Furious one 😕</td>\n",
       "      <td>10K views</td>\n",
       "      <td>4 years ago</td>\n",
       "      <td>https://www.youtube.com//watch?v=J8yG9VbQNZo</td>\n",
       "      <td>10000</td>\n",
       "    </tr>\n",
       "    <tr>\n",
       "      <th>418</th>\n",
       "      <td>A lou on fleek after receiving salary</td>\n",
       "      <td>71K views</td>\n",
       "      <td>4 years ago</td>\n",
       "      <td>https://www.youtube.com//watch?v=Mwc5gwzXQxQ</td>\n",
       "      <td>71000</td>\n",
       "    </tr>\n",
       "    <tr>\n",
       "      <th>419</th>\n",
       "      <td>Digirii</td>\n",
       "      <td>78K views</td>\n",
       "      <td>4 years ago</td>\n",
       "      <td>https://www.youtube.com//watch?v=EYpgkmcJTVg</td>\n",
       "      <td>78000</td>\n",
       "    </tr>\n",
       "  </tbody>\n",
       "</table>\n",
       "<p>420 rows × 5 columns</p>\n",
       "</div>"
      ],
      "text/plain": [
       "                                       Title      views          age  \\\n",
       "0                              kazi iko KAZI  10K views  8 hours ago   \n",
       "1       ROOMMATES EPISODE 11 (season finale)  75K views   2 days ago   \n",
       "2     \"INDEPENDENT LADIES ON\" VALENTINES DAY  45K views   4 days ago   \n",
       "3              MAJI MAJI PART 9 (FINAL PART)  48K views   5 days ago   \n",
       "4                           MAJI MAJI PART 8  22K views   5 days ago   \n",
       "..                                       ...        ...          ...   \n",
       "415  MIGUNA MIGUNA and PLO talk about Canaan  12K views  4 years ago   \n",
       "416                               SALMAN KEN  15K views  4 years ago   \n",
       "417            Kenyan Fast and Furious one 😕  10K views  4 years ago   \n",
       "418    A lou on fleek after receiving salary  71K views  4 years ago   \n",
       "419                                  Digirii  78K views  4 years ago   \n",
       "\n",
       "                                              url  Clean_views  \n",
       "0    https://www.youtube.com//watch?v=y12bBz9WVo0        10000  \n",
       "1    https://www.youtube.com//watch?v=rSn7Vp4wLik        75000  \n",
       "2    https://www.youtube.com//watch?v=ZBAIMYJJCcc        45000  \n",
       "3    https://www.youtube.com//watch?v=ysLlIiDAU8Y        48000  \n",
       "4    https://www.youtube.com//watch?v=fsmVQVtHHd8        22000  \n",
       "..                                            ...          ...  \n",
       "415  https://www.youtube.com//watch?v=ThlAqoKcr40        12000  \n",
       "416  https://www.youtube.com//watch?v=iQ42-7p75Ws        15000  \n",
       "417  https://www.youtube.com//watch?v=J8yG9VbQNZo        10000  \n",
       "418  https://www.youtube.com//watch?v=Mwc5gwzXQxQ        71000  \n",
       "419  https://www.youtube.com//watch?v=EYpgkmcJTVg        78000  \n",
       "\n",
       "[420 rows x 5 columns]"
      ]
     },
     "execution_count": 13,
     "metadata": {},
     "output_type": "execute_result"
    }
   ],
   "source": [
    "# add the cleaned views into the data frame\n",
    "df[\"Clean_views\"] = df.apply(convert_views, axis=1)\n",
    "df[\"Clean_views\"] = df[\"Clean_views\"].astype(int) # change the data type to integer\n",
    "df"
   ]
  },
  {
   "cell_type": "code",
   "execution_count": 14,
   "id": "0be3d0db",
   "metadata": {},
   "outputs": [],
   "source": [
    "# save to a csv file\n",
    "df.to_csv(\"youtube data.csv\", index = False)"
   ]
  },
  {
   "cell_type": "code",
   "execution_count": null,
   "id": "c02bd766",
   "metadata": {},
   "outputs": [],
   "source": []
  },
  {
   "cell_type": "markdown",
   "id": "5ced8894",
   "metadata": {},
   "source": [
    "## Get more data from each of the Videos"
   ]
  },
  {
   "cell_type": "code",
   "execution_count": 15,
   "id": "681e6de6",
   "metadata": {},
   "outputs": [
    {
     "data": {
      "text/html": [
       "<div>\n",
       "<style scoped>\n",
       "    .dataframe tbody tr th:only-of-type {\n",
       "        vertical-align: middle;\n",
       "    }\n",
       "\n",
       "    .dataframe tbody tr th {\n",
       "        vertical-align: top;\n",
       "    }\n",
       "\n",
       "    .dataframe thead th {\n",
       "        text-align: right;\n",
       "    }\n",
       "</style>\n",
       "<table border=\"1\" class=\"dataframe\">\n",
       "  <thead>\n",
       "    <tr style=\"text-align: right;\">\n",
       "      <th></th>\n",
       "      <th>Title</th>\n",
       "      <th>views</th>\n",
       "      <th>age</th>\n",
       "      <th>url</th>\n",
       "      <th>Clean_views</th>\n",
       "      <th>date</th>\n",
       "      <th>Accurate_Views</th>\n",
       "      <th>Likes</th>\n",
       "    </tr>\n",
       "  </thead>\n",
       "  <tbody>\n",
       "    <tr>\n",
       "      <th>0</th>\n",
       "      <td>kazi iko KAZI</td>\n",
       "      <td>10K views</td>\n",
       "      <td>8 hours ago</td>\n",
       "      <td>https://www.youtube.com//watch?v=y12bBz9WVo0</td>\n",
       "      <td>10000</td>\n",
       "      <td></td>\n",
       "      <td></td>\n",
       "      <td></td>\n",
       "    </tr>\n",
       "    <tr>\n",
       "      <th>1</th>\n",
       "      <td>ROOMMATES EPISODE 11 (season finale)</td>\n",
       "      <td>75K views</td>\n",
       "      <td>2 days ago</td>\n",
       "      <td>https://www.youtube.com//watch?v=rSn7Vp4wLik</td>\n",
       "      <td>75000</td>\n",
       "      <td></td>\n",
       "      <td></td>\n",
       "      <td></td>\n",
       "    </tr>\n",
       "    <tr>\n",
       "      <th>2</th>\n",
       "      <td>\"INDEPENDENT LADIES ON\" VALENTINES DAY</td>\n",
       "      <td>45K views</td>\n",
       "      <td>4 days ago</td>\n",
       "      <td>https://www.youtube.com//watch?v=ZBAIMYJJCcc</td>\n",
       "      <td>45000</td>\n",
       "      <td></td>\n",
       "      <td></td>\n",
       "      <td></td>\n",
       "    </tr>\n",
       "    <tr>\n",
       "      <th>3</th>\n",
       "      <td>MAJI MAJI PART 9 (FINAL PART)</td>\n",
       "      <td>48K views</td>\n",
       "      <td>5 days ago</td>\n",
       "      <td>https://www.youtube.com//watch?v=ysLlIiDAU8Y</td>\n",
       "      <td>48000</td>\n",
       "      <td></td>\n",
       "      <td></td>\n",
       "      <td></td>\n",
       "    </tr>\n",
       "    <tr>\n",
       "      <th>4</th>\n",
       "      <td>MAJI MAJI PART 8</td>\n",
       "      <td>22K views</td>\n",
       "      <td>5 days ago</td>\n",
       "      <td>https://www.youtube.com//watch?v=fsmVQVtHHd8</td>\n",
       "      <td>22000</td>\n",
       "      <td></td>\n",
       "      <td></td>\n",
       "      <td></td>\n",
       "    </tr>\n",
       "    <tr>\n",
       "      <th>...</th>\n",
       "      <td>...</td>\n",
       "      <td>...</td>\n",
       "      <td>...</td>\n",
       "      <td>...</td>\n",
       "      <td>...</td>\n",
       "      <td>...</td>\n",
       "      <td>...</td>\n",
       "      <td>...</td>\n",
       "    </tr>\n",
       "    <tr>\n",
       "      <th>415</th>\n",
       "      <td>MIGUNA MIGUNA and PLO talk about Canaan</td>\n",
       "      <td>12K views</td>\n",
       "      <td>4 years ago</td>\n",
       "      <td>https://www.youtube.com//watch?v=ThlAqoKcr40</td>\n",
       "      <td>12000</td>\n",
       "      <td></td>\n",
       "      <td></td>\n",
       "      <td></td>\n",
       "    </tr>\n",
       "    <tr>\n",
       "      <th>416</th>\n",
       "      <td>SALMAN KEN</td>\n",
       "      <td>15K views</td>\n",
       "      <td>4 years ago</td>\n",
       "      <td>https://www.youtube.com//watch?v=iQ42-7p75Ws</td>\n",
       "      <td>15000</td>\n",
       "      <td></td>\n",
       "      <td></td>\n",
       "      <td></td>\n",
       "    </tr>\n",
       "    <tr>\n",
       "      <th>417</th>\n",
       "      <td>Kenyan Fast and Furious one 😕</td>\n",
       "      <td>10K views</td>\n",
       "      <td>4 years ago</td>\n",
       "      <td>https://www.youtube.com//watch?v=J8yG9VbQNZo</td>\n",
       "      <td>10000</td>\n",
       "      <td></td>\n",
       "      <td></td>\n",
       "      <td></td>\n",
       "    </tr>\n",
       "    <tr>\n",
       "      <th>418</th>\n",
       "      <td>A lou on fleek after receiving salary</td>\n",
       "      <td>71K views</td>\n",
       "      <td>4 years ago</td>\n",
       "      <td>https://www.youtube.com//watch?v=Mwc5gwzXQxQ</td>\n",
       "      <td>71000</td>\n",
       "      <td></td>\n",
       "      <td></td>\n",
       "      <td></td>\n",
       "    </tr>\n",
       "    <tr>\n",
       "      <th>419</th>\n",
       "      <td>Digirii</td>\n",
       "      <td>78K views</td>\n",
       "      <td>4 years ago</td>\n",
       "      <td>https://www.youtube.com//watch?v=EYpgkmcJTVg</td>\n",
       "      <td>78000</td>\n",
       "      <td></td>\n",
       "      <td></td>\n",
       "      <td></td>\n",
       "    </tr>\n",
       "  </tbody>\n",
       "</table>\n",
       "<p>420 rows × 8 columns</p>\n",
       "</div>"
      ],
      "text/plain": [
       "                                       Title      views          age  \\\n",
       "0                              kazi iko KAZI  10K views  8 hours ago   \n",
       "1       ROOMMATES EPISODE 11 (season finale)  75K views   2 days ago   \n",
       "2     \"INDEPENDENT LADIES ON\" VALENTINES DAY  45K views   4 days ago   \n",
       "3              MAJI MAJI PART 9 (FINAL PART)  48K views   5 days ago   \n",
       "4                           MAJI MAJI PART 8  22K views   5 days ago   \n",
       "..                                       ...        ...          ...   \n",
       "415  MIGUNA MIGUNA and PLO talk about Canaan  12K views  4 years ago   \n",
       "416                               SALMAN KEN  15K views  4 years ago   \n",
       "417            Kenyan Fast and Furious one 😕  10K views  4 years ago   \n",
       "418    A lou on fleek after receiving salary  71K views  4 years ago   \n",
       "419                                  Digirii  78K views  4 years ago   \n",
       "\n",
       "                                              url  Clean_views date  \\\n",
       "0    https://www.youtube.com//watch?v=y12bBz9WVo0        10000        \n",
       "1    https://www.youtube.com//watch?v=rSn7Vp4wLik        75000        \n",
       "2    https://www.youtube.com//watch?v=ZBAIMYJJCcc        45000        \n",
       "3    https://www.youtube.com//watch?v=ysLlIiDAU8Y        48000        \n",
       "4    https://www.youtube.com//watch?v=fsmVQVtHHd8        22000        \n",
       "..                                            ...          ...  ...   \n",
       "415  https://www.youtube.com//watch?v=ThlAqoKcr40        12000        \n",
       "416  https://www.youtube.com//watch?v=iQ42-7p75Ws        15000        \n",
       "417  https://www.youtube.com//watch?v=J8yG9VbQNZo        10000        \n",
       "418  https://www.youtube.com//watch?v=Mwc5gwzXQxQ        71000        \n",
       "419  https://www.youtube.com//watch?v=EYpgkmcJTVg        78000        \n",
       "\n",
       "    Accurate_Views Likes  \n",
       "0                         \n",
       "1                         \n",
       "2                         \n",
       "3                         \n",
       "4                         \n",
       "..             ...   ...  \n",
       "415                       \n",
       "416                       \n",
       "417                       \n",
       "418                       \n",
       "419                       \n",
       "\n",
       "[420 rows x 8 columns]"
      ]
     },
     "execution_count": 15,
     "metadata": {},
     "output_type": "execute_result"
    }
   ],
   "source": [
    "# crete empty columns for the date, views and likes\n",
    "df[\"date\"] = \"\"\n",
    "df[\"Accurate_Views\"] = \"\"\n",
    "df[\"Likes\"] = \"\"\n",
    "df"
   ]
  },
  {
   "cell_type": "code",
   "execution_count": 16,
   "id": "f66cfbfc",
   "metadata": {},
   "outputs": [],
   "source": [
    "# method to convert likes to numbers\n",
    "def get_likes_num (all_likes):\n",
    "    if \"K\" in all_likes:\n",
    "        likes = float(all_likes.split(\"K\")[0]) * 1000\n",
    "    elif \"M\" in all_likes:\n",
    "        likes = float(all_likes.split(\"K\")[0]) * 1000000\n",
    "        \n",
    "    return likes"
   ]
  },
  {
   "cell_type": "code",
   "execution_count": 17,
   "id": "d3cde86f",
   "metadata": {},
   "outputs": [],
   "source": [
    "# change the date format\n",
    "def form_date(date):\n",
    "    #creaate a date value\n",
    "    date_dd = datetime.datetime.strptime(date, '%b %d %Y')\n",
    "\n",
    "    #change date format\n",
    "    date = date_dd.strftime('%Y-%m-%d')\n",
    "    return date"
   ]
  },
  {
   "cell_type": "code",
   "execution_count": 20,
   "id": "d7f7d61a",
   "metadata": {},
   "outputs": [
    {
     "name": "stdout",
     "output_type": "stream",
     "text": [
      "\n",
      "\n",
      " \n"
     ]
    }
   ],
   "source": [
    "# get url of each video and navigate to it\n",
    "import requests\n",
    "for url in df['url']:\n",
    "    my_url =  url\n",
    "    driver.get(url)\n",
    "    html = driver.page_source\n",
    "    \n",
    "    results = get_add_data(my_url)\n",
    "    date = results[0]\n",
    "    views = results[1]\n",
    "    likes = results[2]\n",
    "    \n",
    "    print(date)\n",
    "    print(views, likes)\n",
    "    break"
   ]
  },
  {
   "cell_type": "code",
   "execution_count": null,
   "id": "c3c2d922",
   "metadata": {},
   "outputs": [],
   "source": []
  },
  {
   "cell_type": "code",
   "execution_count": 22,
   "id": "1d6c2ead",
   "metadata": {},
   "outputs": [],
   "source": [
    "def get_add_data(url):\n",
    "    \n",
    "    #source=requests.get(url).text\n",
    "    driver.get(url)\n",
    "    html = driver.page_source\n",
    "    \n",
    "    soup=BeautifulSoup(html,\"html.parser\")\n",
    "    date = \"\"\n",
    "    view_count = \"\"\n",
    "    likes = \"\"\n",
    "    \n",
    "    print(soup.find(\"a\").text)\n",
    "    date_str = soup.find('yt-formatted-string', {'class': \"style-scope ytd-video-primary-info-renderer\"}).text.replace(',', '')\n",
    "    date = form_date(date_str)\n",
    "    \n",
    "    view_count = soup.find('span', {'class': \"view-count style-scope ytd-video-view-count-renderer\"}).text.split()[0].replace(',','')\n",
    "\n",
    "    likes_1 = soup.find('yt-formatted-string', {'class': 'style-scope ytd-toggle-button-renderer style-text'}).text\n",
    "    likes = get_likes_num(likes_1)\n",
    "    \n",
    "    return [date, view_count, likes]"
   ]
  },
  {
   "cell_type": "code",
   "execution_count": null,
   "id": "49b2a3ec",
   "metadata": {},
   "outputs": [],
   "source": [
    "\n",
    "\n"
   ]
  },
  {
   "cell_type": "code",
   "execution_count": null,
   "id": "f9f53f43",
   "metadata": {},
   "outputs": [],
   "source": []
  },
  {
   "cell_type": "code",
   "execution_count": 37,
   "id": "e6f47d4f",
   "metadata": {},
   "outputs": [],
   "source": []
  },
  {
   "cell_type": "code",
   "execution_count": null,
   "id": "ff741d8e",
   "metadata": {},
   "outputs": [],
   "source": []
  },
  {
   "cell_type": "code",
   "execution_count": null,
   "id": "0cb8dd83",
   "metadata": {},
   "outputs": [],
   "source": []
  },
  {
   "cell_type": "code",
   "execution_count": null,
   "id": "f026e899",
   "metadata": {},
   "outputs": [],
   "source": []
  }
 ],
 "metadata": {
  "kernelspec": {
   "display_name": "Python 3 (ipykernel)",
   "language": "python",
   "name": "python3"
  },
  "language_info": {
   "codemirror_mode": {
    "name": "ipython",
    "version": 3
   },
   "file_extension": ".py",
   "mimetype": "text/x-python",
   "name": "python",
   "nbconvert_exporter": "python",
   "pygments_lexer": "ipython3",
   "version": "3.9.5"
  }
 },
 "nbformat": 4,
 "nbformat_minor": 5
}
